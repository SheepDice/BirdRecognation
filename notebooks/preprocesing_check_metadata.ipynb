{
 "cells": [
  {
   "cell_type": "code",
   "execution_count": 2,
   "id": "db9ebf23",
   "metadata": {},
   "outputs": [
    {
     "name": "stderr",
     "output_type": "stream",
     "text": [
      "C:\\Users\\Reizak\\AppData\\Local\\Temp\\ipykernel_2916\\2845625259.py:5: DeprecationWarning: \n",
      "Pyarrow will become a required dependency of pandas in the next major release of pandas (pandas 3.0),\n",
      "(to allow more performant data types, such as the Arrow string type, and better interoperability with other libraries)\n",
      "but was not found to be installed on your system.\n",
      "If this would cause problems for you,\n",
      "please provide us feedback at https://github.com/pandas-dev/pandas/issues/54466\n",
      "        \n",
      "  import pandas as pd\n"
     ]
    }
   ],
   "source": [
    "from PIL import Image\n",
    "from PIL.ExifTags import TAGS\n",
    "import os\n",
    "import csv\n",
    "import pandas as pd\n",
    "import numpy as np\n",
    "import shutil\n",
    "import const\n"
   ]
  },
  {
   "cell_type": "code",
   "execution_count": 74,
   "id": "b415d321",
   "metadata": {},
   "outputs": [],
   "source": [
    "#Fonction Recuperant des metadata d'une image \n",
    "def getImagesInfos(imagePath):\n",
    "    image = Image.open(imagePath)\n",
    "    info_dict = {\n",
    "    \"Filename\": image.filename,\n",
    "    \"Size\": image.size,\n",
    "    \"Height\": image.height,\n",
    "    \"Width\": image.width,\n",
    "    \"Format\": image.format,\n",
    "    \"Mode\": image.mode,}\n",
    "    return info_dict\n"
   ]
  },
  {
   "cell_type": "code",
   "execution_count": 3,
   "id": "c4e2261a",
   "metadata": {},
   "outputs": [],
   "source": [
    "#Fonction générant un csv qui présente les metadatas de trois set \n",
    "def generate_metadata_csv(filename = \"imagesInfos.csv\", dataset_path = const.DATASET_PATH):\n",
    "    with open(os.path.join(const.DATA_PATH, filename), 'w', newline='') as f:\n",
    "        writer = csv.writer(f, delimiter=\",\")\n",
    "        writer.writerow([\"set\", \"birdName\", \"filename\", \"size\", \"height\", \"width\", \"format\", \"mode\"])\n",
    "        for setPath in os.listdir(dataset_path):\n",
    "            fullSetPath = os.path.join(dataset_path, setPath)\n",
    "            for birdPath in os.listdir(fullSetPath): \n",
    "                birdImagesList = os.listdir(os.path.join(fullSetPath, birdPath))\n",
    "                for file in birdImagesList:\n",
    "                    infos = getImagesInfos(os.path.join(fullSetPath, birdPath, file,))\n",
    "                    writer.writerow([setPath, birdPath, file, infos['Size'], infos['Height'], infos['Width'], infos['Format'], infos['Mode']])"
   ]
  },
  {
   "cell_type": "code",
   "execution_count": 76,
   "id": "b488e966",
   "metadata": {},
   "outputs": [],
   "source": [
    "#Génération du csv de metadata pour le dossier d'origine\n",
    "generate_metadata_csv()"
   ]
  },
  {
   "cell_type": "code",
   "execution_count": 4,
   "id": "910167c7",
   "metadata": {},
   "outputs": [
    {
     "name": "stdout",
     "output_type": "stream",
     "text": [
      "Nombre de taille d'images différentes : 212\n",
      "\n",
      "\n",
      "Nombre de taille d'images différentes dans le set de test : 6\n",
      "Nombre de taille d'images différentes dans le set d'entrainement : 202\n",
      "Nombre de taille d'images différentes dans le set de validation : 6\n",
      "\n",
      "\n",
      "Nombre d'images de taille différente de 224*224 dans le set de test : 5\n",
      "Nombre d'images de taille différente de 224*224 dans le set d'entrainement : 201\n",
      "Nombre d'images de taille différente de 224*224 dans le set de validation : 5\n"
     ]
    }
   ],
   "source": [
    "#Informations sur la taille des images\n",
    "df = pd.read_csv(os.path.join(const.DATA_PATH, \"imagesInfos.csv\"))\n",
    "print(\"Nombre de taille d'images différentes : \" + str(df['size'].nunique()))\n",
    "print('\\n')\n",
    "print(\"Nombre de taille d'images différentes dans le set de test : \" + str(df[df['set']== \"test\"]['size'].nunique()))\n",
    "print(\"Nombre de taille d'images différentes dans le set d'entrainement : \" + str(df[df['set']== \"train\"]['size'].nunique()))\n",
    "print(\"Nombre de taille d'images différentes dans le set de validation : \" + str(df[df['set']== \"valid\"]['size'].nunique()))\n",
    "print('\\n')\n",
    "\n",
    "print(\"Nombre d'images de taille différente de 224*224 dans le set de test : \" + str(df[(df['set']== \"test\") & (df['size'] != '(224, 224)')]['size'].nunique()))\n",
    "print(\"Nombre d'images de taille différente de 224*224 dans le set d'entrainement : \" + str(df[(df['set']== \"train\") & (df['size'] != '(224, 224)')]['size'].nunique()))\n",
    "print(\"Nombre d'images de taille différente de 224*224 dans le set de validation : \" + str(df[(df['set']== \"valid\") & (df['size'] != '(224, 224)')]['size'].nunique()))\n",
    "\n",
    "#On voudra remplacer tout ça par des graphes\n"
   ]
  },
  {
   "cell_type": "code",
   "execution_count": 5,
   "id": "94decc6b",
   "metadata": {},
   "outputs": [
    {
     "data": {
      "text/html": [
       "<div>\n",
       "<style scoped>\n",
       "    .dataframe tbody tr th:only-of-type {\n",
       "        vertical-align: middle;\n",
       "    }\n",
       "\n",
       "    .dataframe tbody tr th {\n",
       "        vertical-align: top;\n",
       "    }\n",
       "\n",
       "    .dataframe thead th {\n",
       "        text-align: right;\n",
       "    }\n",
       "</style>\n",
       "<table border=\"1\" class=\"dataframe\">\n",
       "  <thead>\n",
       "    <tr style=\"text-align: right;\">\n",
       "      <th></th>\n",
       "      <th></th>\n",
       "      <th>filename</th>\n",
       "      <th>size</th>\n",
       "      <th>height</th>\n",
       "      <th>width</th>\n",
       "      <th>format</th>\n",
       "      <th>mode</th>\n",
       "    </tr>\n",
       "    <tr>\n",
       "      <th>birdName</th>\n",
       "      <th>set</th>\n",
       "      <th></th>\n",
       "      <th></th>\n",
       "      <th></th>\n",
       "      <th></th>\n",
       "      <th></th>\n",
       "      <th></th>\n",
       "    </tr>\n",
       "  </thead>\n",
       "  <tbody>\n",
       "    <tr>\n",
       "      <th>LOGGERHEAD SHRIKE</th>\n",
       "      <th>train</th>\n",
       "      <td>1</td>\n",
       "      <td>1</td>\n",
       "      <td>1</td>\n",
       "      <td>1</td>\n",
       "      <td>1</td>\n",
       "      <td>1</td>\n",
       "    </tr>\n",
       "    <tr>\n",
       "      <th rowspan=\"3\" valign=\"top\">PLUSH CRESTED JAY</th>\n",
       "      <th>test</th>\n",
       "      <td>5</td>\n",
       "      <td>5</td>\n",
       "      <td>5</td>\n",
       "      <td>5</td>\n",
       "      <td>5</td>\n",
       "      <td>5</td>\n",
       "    </tr>\n",
       "    <tr>\n",
       "      <th>train</th>\n",
       "      <td>200</td>\n",
       "      <td>200</td>\n",
       "      <td>200</td>\n",
       "      <td>200</td>\n",
       "      <td>200</td>\n",
       "      <td>200</td>\n",
       "    </tr>\n",
       "    <tr>\n",
       "      <th>valid</th>\n",
       "      <td>5</td>\n",
       "      <td>5</td>\n",
       "      <td>5</td>\n",
       "      <td>5</td>\n",
       "      <td>5</td>\n",
       "      <td>5</td>\n",
       "    </tr>\n",
       "  </tbody>\n",
       "</table>\n",
       "</div>"
      ],
      "text/plain": [
       "                         filename  size  height  width  format  mode\n",
       "birdName          set                                               \n",
       "LOGGERHEAD SHRIKE train         1     1       1      1       1     1\n",
       "PLUSH CRESTED JAY test          5     5       5      5       5     5\n",
       "                  train       200   200     200    200     200   200\n",
       "                  valid         5     5       5      5       5     5"
      ]
     },
     "execution_count": 5,
     "metadata": {},
     "output_type": "execute_result"
    }
   ],
   "source": [
    "#On extrait seulement les lignes montrant une image qui n'est pas aux bonnes dimensions\n",
    "#Et on les groupe par classe\n",
    "df_to_resize = df[df['size'] != '(224, 224)']\n",
    "df_to_resize.groupby(['birdName', 'set']).count()"
   ]
  },
  {
   "cell_type": "markdown",
   "id": "336126b0",
   "metadata": {},
   "source": [
    "Aucune image concernant le Plush Crested Jay n'est à la bonne taille. On se propose donc de laisser tomber cette espèce.\n",
    "En revanche, le Loggerhead Shrike n'a qu'une image qui pose problème. On va voir si on peut la garder en changeant sa taille. Sinon on pourra la supprimer car c'est une parmi 200"
   ]
  },
  {
   "cell_type": "code",
   "execution_count": 11,
   "id": "8b818942",
   "metadata": {},
   "outputs": [
    {
     "name": "stdout",
     "output_type": "stream",
     "text": [
      "Le ratio de la hauteur sur la largeur et de 1.15 : c'est assez proche de 1 pour la redimensionner sans perdre trop d'information\n"
     ]
    }
   ],
   "source": [
    "imageToResize = df_to_resize[df['birdName']== \"LOGGERHEAD SHRIKE\"]\n",
    "ratio = float(imageToResize['height']/imageToResize['width'])\n",
    "print(\"Le ratio de la hauteur sur la largeur et de %.2f : c'est assez proche de 1 pour la redimensionner sans perdre trop d'information\" % ratio)"
   ]
  },
  {
   "cell_type": "code",
   "execution_count": 10,
   "id": "24ffa5d8",
   "metadata": {},
   "outputs": [],
   "source": [
    "#Resize l'image de Loggerhead Shrike\n",
    "img_path = os.path.join(const.DATASET_PATH, imageToResize['set'].iloc[0], imageToResize['birdName'].iloc[0], imageToResize['filename'].iloc[0])\n",
    "img = Image.open(img_path)\n",
    "img_resize = img.resize((224,224))\n",
    "img_resize_path = os.path.join(const.DATASET_CLEAN_PATH, imageToResize['set'].iloc[0], imageToResize['birdName'].iloc[0], imageToResize['filename'].iloc[0])\n",
    "img_resize.save(img_resize_path)\n"
   ]
  },
  {
   "cell_type": "code",
   "execution_count": 9,
   "id": "bb20ba43",
   "metadata": {},
   "outputs": [
    {
     "name": "stdout",
     "output_type": "stream",
     "text": [
      "ratio_size_close_to_1\n",
      "True     163\n",
      "False     47\n",
      "Name: count, dtype: int64\n"
     ]
    }
   ],
   "source": [
    "#On va essayer de voir si la classe \"PLUSH CRESTED JAY\" peut être facilement conservée\n",
    "df_PCJ = df_to_resize[df_to_resize['birdName'] == \"PLUSH CRESTED JAY\"]\n",
    "df_PCJ['ratio_size'] = np.abs(df_PCJ['height'] / df_PCJ['width'])\n",
    "df_PCJ['ratio_size_close_to_1'] = 1 - df_PCJ['ratio_size'] < 0.2 #On décide que si l'écart de ratio par rapport à 1 est de plus de 20%, le redimensionnement fait perdre trop d'info\n",
    "print(df_PCJ['ratio_size_close_to_1'].value_counts())\n",
    "#Il y a trop peu d'images proches d'un carré et donc facilement resizable, on confirme la suppression de la classe \"PLUSH CRESTED JAY\""
   ]
  },
  {
   "cell_type": "code",
   "execution_count": 66,
   "id": "1d004f96",
   "metadata": {},
   "outputs": [
    {
     "data": {
      "text/plain": [
       "mode\n",
       "RGB    89886\n",
       "Name: count, dtype: int64"
      ]
     },
     "execution_count": 66,
     "metadata": {},
     "output_type": "execute_result"
    }
   ],
   "source": [
    "df['mode'].value_counts()\n",
    "#Toute les images sont en couleurs"
   ]
  },
  {
   "cell_type": "code",
   "execution_count": 67,
   "id": "9206b548",
   "metadata": {},
   "outputs": [],
   "source": [
    "#Fonction permettant de supprimer dans un dataset toute les classes d'un DF\n",
    "def delClasses(df, dataset_path = const.DATASET_CLEAN_PATH):\n",
    "    for dir in os.listdir(dataset_path):\n",
    "        for birdName in df['birdName'].unique():\n",
    "            pathToDel = os.path.join(dataset_path, dir, birdName)\n",
    "            if os.path.isdir(pathToDel):\n",
    "                shutil.rmtree(pathToDel)\n",
    "delClasses(df_PCJ)"
   ]
  },
  {
   "cell_type": "code",
   "execution_count": 68,
   "id": "4f67516d",
   "metadata": {},
   "outputs": [],
   "source": [
    "#Génération du csv de metadata pour le dossier clean\n",
    "generate_metadata_csv(\"image_cleaned.csv\", const.DATASET_CLEAN_PATH)"
   ]
  },
  {
   "cell_type": "code",
   "execution_count": 70,
   "id": "65e2148e",
   "metadata": {},
   "outputs": [
    {
     "data": {
      "text/html": [
       "<div>\n",
       "<style scoped>\n",
       "    .dataframe tbody tr th:only-of-type {\n",
       "        vertical-align: middle;\n",
       "    }\n",
       "\n",
       "    .dataframe tbody tr th {\n",
       "        vertical-align: top;\n",
       "    }\n",
       "\n",
       "    .dataframe thead th {\n",
       "        text-align: right;\n",
       "    }\n",
       "</style>\n",
       "<table border=\"1\" class=\"dataframe\">\n",
       "  <thead>\n",
       "    <tr style=\"text-align: right;\">\n",
       "      <th></th>\n",
       "      <th>set</th>\n",
       "      <th>birdName</th>\n",
       "      <th>filename</th>\n",
       "      <th>size</th>\n",
       "      <th>height</th>\n",
       "      <th>width</th>\n",
       "      <th>format</th>\n",
       "      <th>mode</th>\n",
       "    </tr>\n",
       "  </thead>\n",
       "  <tbody>\n",
       "  </tbody>\n",
       "</table>\n",
       "</div>"
      ],
      "text/plain": [
       "Empty DataFrame\n",
       "Columns: [set, birdName, filename, size, height, width, format, mode]\n",
       "Index: []"
      ]
     },
     "execution_count": 70,
     "metadata": {},
     "output_type": "execute_result"
    }
   ],
   "source": [
    "#Vérification qu'il n'y a plus d'image de dimension différente de (224,224)\n",
    "df_cleaned = pd.read_csv(os.path.join(const.DATA_PATH, \"image_cleaned.csv\"))\n",
    "df_to_resize = df_cleaned[df_cleaned['size'] != '(224, 224)']\n",
    "df_to_resize.head()"
   ]
  }
 ],
 "metadata": {
  "kernelspec": {
   "display_name": "Python 3 (ipykernel)",
   "language": "python",
   "name": "python3"
  },
  "language_info": {
   "codemirror_mode": {
    "name": "ipython",
    "version": 3
   },
   "file_extension": ".py",
   "mimetype": "text/x-python",
   "name": "python",
   "nbconvert_exporter": "python",
   "pygments_lexer": "ipython3",
   "version": "3.11.2"
  }
 },
 "nbformat": 4,
 "nbformat_minor": 5
}
