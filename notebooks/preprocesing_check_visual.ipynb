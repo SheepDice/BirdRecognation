{
 "cells": [
  {
   "cell_type": "code",
   "execution_count": 2,
   "metadata": {},
   "outputs": [
    {
     "name": "stderr",
     "output_type": "stream",
     "text": [
      "C:\\Users\\Reizak\\AppData\\Local\\Temp\\ipykernel_17116\\3659565212.py:3: DeprecationWarning: \n",
      "Pyarrow will become a required dependency of pandas in the next major release of pandas (pandas 3.0),\n",
      "(to allow more performant data types, such as the Arrow string type, and better interoperability with other libraries)\n",
      "but was not found to be installed on your system.\n",
      "If this would cause problems for you,\n",
      "please provide us feedback at https://github.com/pandas-dev/pandas/issues/54466\n",
      "        \n",
      "  import pandas as pd\n"
     ]
    }
   ],
   "source": [
    "from PIL import Image\n",
    "from PIL.ExifTags import TAGS\n",
    "import pandas as pd\n",
    "from easyimages import EasyImageList\n",
    "import const\n",
    "import os\n"
   ]
  },
  {
   "cell_type": "code",
   "execution_count": null,
   "metadata": {},
   "outputs": [],
   "source": [
    "#Affichage des images pour vérif visuelle\n",
    "df = pd.read_csv(os.path.join(const.DATA_PATH, \"imagesInfos.csv\"))\n",
    "repoToCheck = \"valid\"\n",
    "\n",
    "for i in df['birdName'].unique():\n",
    "    to_print = os.path.join(const.DATASET_PATH, repoToCheck, i)\n",
    "    li = EasyImageList.from_multilevel_folder(to_print)\n",
    "    li.html(by_class=True)\n",
    "\n",
    "#Après vérification visuelle, aucune image ne semble corrompue (noire, partiellement endommagée...)"
   ]
  }
 ],
 "metadata": {
  "kernelspec": {
   "display_name": "envBird",
   "language": "python",
   "name": "python3"
  },
  "language_info": {
   "codemirror_mode": {
    "name": "ipython",
    "version": 3
   },
   "file_extension": ".py",
   "mimetype": "text/x-python",
   "name": "python",
   "nbconvert_exporter": "python",
   "pygments_lexer": "ipython3",
   "version": "3.11.2"
  }
 },
 "nbformat": 4,
 "nbformat_minor": 2
}
