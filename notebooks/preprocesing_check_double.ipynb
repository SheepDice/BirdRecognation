{
 "cells": [
  {
   "cell_type": "code",
   "execution_count": 2,
   "metadata": {},
   "outputs": [],
   "source": [
    "from PIL import Image\n",
    "import os\n",
    "import const\n",
    "import hashlib\n"
   ]
  },
  {
   "cell_type": "code",
   "execution_count": 31,
   "metadata": {},
   "outputs": [
    {
     "name": "stdout",
     "output_type": "stream",
     "text": [
      "['..\\\\data\\\\dataset_birds\\\\test\\\\ABBOTTS BABBLER\\\\1.jpg']\n"
     ]
    }
   ],
   "source": [
    "list_md5 = list()\n",
    "list_doublons = list()\n",
    "for setPath in os.listdir(const.DATASET_PATH):\n",
    "        fullSetPath = os.path.join(const.DATASET_PATH, setPath)\n",
    "        for birdPath in os.listdir(fullSetPath): \n",
    "            fullBirdPath = os.path.join(fullSetPath, birdPath)\n",
    "            birdImagesList = os.listdir(fullBirdPath)\n",
    "            for file in birdImagesList:\n",
    "                md5_hash = hashlib.md5(Image.open(os.path.join(fullBirdPath, file)).tobytes())\n",
    "                if md5_hash.hexdigest() in list_md5:\n",
    "                    list_doublons.append(os.path.join(fullBirdPath, file))\n",
    "                    print(list_doublons)\n",
    "                else:\n",
    "                    list_md5.append(md5_hash.hexdigest())\n",
    "                \n",
    "                "
   ]
  }
 ],
 "metadata": {
  "kernelspec": {
   "display_name": "venv",
   "language": "python",
   "name": "python3"
  },
  "language_info": {
   "codemirror_mode": {
    "name": "ipython",
    "version": 3
   },
   "file_extension": ".py",
   "mimetype": "text/x-python",
   "name": "python",
   "nbconvert_exporter": "python",
   "pygments_lexer": "ipython3",
   "version": "3.11.2"
  }
 },
 "nbformat": 4,
 "nbformat_minor": 2
}
