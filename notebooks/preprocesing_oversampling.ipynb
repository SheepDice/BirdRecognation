{
 "cells": [
  {
   "cell_type": "code",
   "execution_count": 2,
   "metadata": {},
   "outputs": [],
   "source": [
    "import os\n",
    "import shutil\n",
    "import const\n",
    "from PIL import Image, ImageEnhance, ImageOps\n",
    "import random"
   ]
  },
  {
   "cell_type": "code",
   "execution_count": 3,
   "metadata": {},
   "outputs": [
    {
     "name": "stdout",
     "output_type": "stream",
     "text": [
      "163\n",
      "180\n",
      "179\n",
      "135\n",
      "155\n"
     ]
    }
   ],
   "source": [
    "root_dir = os.path.join(const.DATASET_TEST, \"train\")\n",
    "\n",
    "def get_max_size(root_dir):\n",
    "    classes = os.listdir(root_dir)\n",
    "    max_size_class = 0\n",
    "    for classe in classes:\n",
    "        size_class = len(os.listdir(os.path.join(root_dir, classe)))\n",
    "        if size_class > max_size_class:\n",
    "            max_size_class = size_class\n",
    "    return max_size_class\n",
    "\n",
    "max_size = get_max_size(root_dir)\n",
    "\n",
    "classes = os.listdir(root_dir)\n",
    "for classe in classes:\n",
    "    print(len(os.listdir(os.path.join(root_dir, classe))))\n"
   ]
  },
  {
   "cell_type": "code",
   "execution_count": 4,
   "metadata": {},
   "outputs": [],
   "source": [
    "img_path = os.path.join(const.DATASET_TEST, \"train\\ABBOTTS BABBLER\\\\45.jpg\")\n",
    "\n",
    "def random_rot(img):\n",
    "    rot = random.randint(-90, 90) \n",
    "    img = img.rotate(rot, expand=True)\n",
    "    img = img.resize((224,224))\n",
    "    return img\n",
    "\n",
    "def random_flip(img):\n",
    "    if random.randint(0,1) == 1: #flip a coin\n",
    "        img = ImageOps.mirror(img)\n",
    "    return img\n",
    "\n",
    "def random_luminosity(img): \n",
    "    lum_factor = random.randint(1, 30) * 0.1 #lum_factore entre 0.1 et 3\n",
    "    enhancer = ImageEnhance.Brightness(img)\n",
    "    img = enhancer.enhance(lum_factor)\n",
    "    return img\n",
    "\n",
    "def random_contrast(img): \n",
    "    contrast_factor = random.randint(1, 30) * 0.1 #contrast_factor entre 0.1 et 5\n",
    "    enhancer = ImageEnhance.Contrast(img)\n",
    "    img = enhancer.enhance(contrast_factor)\n",
    "    return img\n",
    "\n",
    "\n"
   ]
  },
  {
   "cell_type": "code",
   "execution_count": 5,
   "metadata": {},
   "outputs": [],
   "source": [
    "def duplicate_random(classe_path, new_images):\n",
    "    files = os.listdir(classe_path)\n",
    "    random_file = files[random.randint(0, len(files))-1]\n",
    "    random_file_path = os.path.join(classe_path, random_file)\n",
    "    new_file_name = random_file\n",
    "    i = 0\n",
    "    all_files = os.listdir(classe_path) + os.listdir(new_images)\n",
    "    while new_file_name in all_files:\n",
    "        new_file_name = new_file_name.split('.')[0] + str(i) + \".jpg\"\n",
    "        new_file_name_path = os.path.join(new_images, new_file_name)\n",
    "        i +=1\n",
    "    shutil.copy(random_file_path, new_file_name_path)\n",
    "    return new_file_name_path\n",
    "\n",
    "def generate_random_image(classe_path, new_images):\n",
    "    new_image_path = duplicate_random(classe_path, new_images)\n",
    "    img = Image.open(new_image_path)\n",
    "    img = random_rot(img)\n",
    "    img = random_flip(img)\n",
    "    img = random_contrast(img)\n",
    "    img = random_luminosity(img)\n",
    "    img.save(new_image_path)\n"
   ]
  },
  {
   "cell_type": "code",
   "execution_count": 6,
   "metadata": {},
   "outputs": [
    {
     "name": "stdout",
     "output_type": "stream",
     "text": [
      "ABBOTTS BABBLER\n",
      "ABBOTTS BOOBY\n",
      "ABYSSINIAN GROUND HORNBILL\n",
      "AFRICAN CROWNED CRANE\n",
      "PARAKETT AUKLET\n"
     ]
    }
   ],
   "source": [
    "for classe in os.listdir(root_dir):\n",
    "    classe_path = os.path.join(root_dir, classe)\n",
    "    new_images_dir = os.path.join(classe_path, \"new\")\n",
    "    if not os.path.isdir(new_images_dir):\n",
    "        os.mkdir(new_images_dir)\n",
    "    while len(os.listdir(classe_path)) + len(os.listdir(new_images_dir)) < max_size + 1: #+1 car il y a le \"\\new\"\n",
    "        generate_random_image(classe_path, new_images_dir)\n",
    "    for img in os.listdir(new_images_dir):\n",
    "        os.rename(os.path.join(new_images_dir, img), os.path.join(classe_path, img))\n",
    "    print(classe)\n",
    "    if os.path.isdir(new_images_dir):\n",
    "        shutil.rmtree(new_images_dir)\n",
    "\n"
   ]
  },
  {
   "cell_type": "code",
   "execution_count": 7,
   "metadata": {},
   "outputs": [
    {
     "name": "stdout",
     "output_type": "stream",
     "text": [
      "180\n",
      "180\n",
      "180\n",
      "180\n",
      "180\n"
     ]
    }
   ],
   "source": [
    "classes = os.listdir(root_dir)\n",
    "for classe in classes:\n",
    "    print(len(os.listdir(os.path.join(root_dir, classe))))"
   ]
  }
 ],
 "metadata": {
  "kernelspec": {
   "display_name": "venv",
   "language": "python",
   "name": "python3"
  },
  "language_info": {
   "codemirror_mode": {
    "name": "ipython",
    "version": 3
   },
   "file_extension": ".py",
   "mimetype": "text/x-python",
   "name": "python",
   "nbconvert_exporter": "python",
   "pygments_lexer": "ipython3",
   "version": "3.11.2"
  }
 },
 "nbformat": 4,
 "nbformat_minor": 2
}
